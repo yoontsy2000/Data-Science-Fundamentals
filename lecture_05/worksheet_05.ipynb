{
 "cells": [
  {
   "cell_type": "markdown",
   "metadata": {},
   "source": [
    "# Worksheet 05\n",
    "\n",
    "Name: Taesung Yoon\n",
    "UID: U35641065\n",
    "\n",
    "### Topics\n",
    "\n",
    "- Cost Functions\n",
    "- Kmeans\n",
    "\n",
    "### Cost Function\n",
    "\n",
    "Solving Data Science problems often starts by defining a metric with which to evaluate solutions were you able to find some. This metric is called a cost function. Data Science then backtracks and tries to find a process / algorithm to find solutions that can optimize for that cost function.\n",
    "\n",
    "For example suppose you are asked to cluster three points A, B, C into two non-empty clusters. If someone gave you the solution `{A, B}, {C}`, how would you evaluate that this is a good solution?\n",
    "\n",
    "Notice that because the clusters need to be non-empty and all points must be assigned to a cluster, it must be that two of the three points will be together in one cluster and the third will be alone in the other cluster.\n",
    "\n",
    "In the above solution, if A and B are closer than A and C, and B and C, then this is a good solution. The smaller the distance between the two points in the same cluster (here A and B), the better the solution. So we can define our cost function to be that distance (between A and B here)!\n",
    "\n",
    "The algorithm / process would involve clustering together the two closest points and put the third in its own cluster. This process optimizes for that cost function because no other pair of points could have a lower distance (although it could equal it)."
   ]
  },
  {
   "cell_type": "markdown",
   "metadata": {},
   "source": [
    "### K means\n",
    "\n",
    "a) (1-dimensional clustering) Walk through Lloyd's algorithm step by step on the following dataset:\n",
    "\n",
    "`[0, .5, 1.5, 2, 6, 6.5, 7]` (note: each of these are 1-dimensional data points)\n",
    "\n",
    "Given the initial centroids:\n",
    "\n",
    "`[0, 2]`"
   ]
  },
  {
   "cell_type": "markdown",
   "metadata": {},
   "source": [
    "For this problem, I will set k as 2\n",
    "\n",
    "First step with [0, 2] as centroids:\n",
    "- [0, 0.5], [1.5, 2, 6, 6.5, 7]\n",
    "\n",
    "Second step with [0.25, 4.6] as centroids:\n",
    "- [0, 0.5, 1.5, 2], [6, 6.5, 7]\n",
    "\n",
    "Third step with [1, 6] as centroids\n",
    "- [0, 0.5, 1.5, 2], [6, 6.5, 7]\n",
    "\n",
    "Convergence occurs."
   ]
  },
  {
   "cell_type": "markdown",
   "metadata": {},
   "source": [
    "b) Describe in plain english what the cost function for k means is."
   ]
  },
  {
   "cell_type": "markdown",
   "metadata": {},
   "source": [
    "The function calculates the average distance between each data point and its centroid. "
   ]
  },
  {
   "cell_type": "markdown",
   "metadata": {},
   "source": [
    "c) For the same number of clusters K, why could there be very different solutions to the K means algorithm on a given dataset?"
   ]
  },
  {
   "cell_type": "markdown",
   "metadata": {},
   "source": [
    "The algorithm will converge on different solutions. Since the initial centroids are often selected randomly, different starting points can lead to various solutions."
   ]
  },
  {
   "cell_type": "markdown",
   "metadata": {},
   "source": [
    "d) Does Lloyd's Algorithm always converge? Why / why not?"
   ]
  },
  {
   "cell_type": "markdown",
   "metadata": {},
   "source": [
    "Yes, because there is a finite data set so the number of partitions are finite. The only way for it to not converge is when there are infinite amount of items in the data set, however, that is not the case here."
   ]
  },
  {
   "cell_type": "markdown",
   "metadata": {},
   "source": [
    "e) Follow along in class the implementation of Kmeans"
   ]
  },
  {
   "cell_type": "code",
   "execution_count": 3,
   "metadata": {},
   "outputs": [],
   "source": [
    "import numpy as np\n",
    "from PIL import Image as im\n",
    "import matplotlib.pyplot as plt\n",
    "import sklearn.datasets as datasets\n",
    "\n",
    "centers = [[0, 0], [2, 2], [-3, 2], [2, -4]]\n",
    "X, _ = datasets.make_blobs(n_samples=300, centers=centers, cluster_std=1, random_state=0)\n",
    "\n",
    "class KMeans():\n",
    "\n",
    "    def __init__(self, data, k):\n",
    "        self.data = data\n",
    "        self.k = k\n",
    "        self.assignment = [-1 for _ in range(len(data))]\n",
    "        self.snaps = []\n",
    "    \n",
    "    def snap(self, centers):\n",
    "        TEMPFILE = \"temp.png\"\n",
    "\n",
    "        fig, ax = plt.subplots()\n",
    "        ax.scatter(X[:, 0], X[:, 1], c=self.assignment)\n",
    "        ax.scatter(centers[:,0], centers[:, 1], c='r')\n",
    "        fig.savefig(TEMPFILE)\n",
    "        plt.close()\n",
    "        self.snaps.append(im.fromarray(np.asarray(im.open(TEMPFILE))))\n",
    "\n",
    "    def initialize(self):\n",
    "        return self.data[np.random.choice(range(len(self.data)),self.k, replace = False)]\n",
    "    \n",
    "    def distance(self,x,y):\n",
    "        return  np.linalg.norm(x-y)\n",
    "                         \n",
    "    def assign(self, centers):\n",
    "        for i in range(len(self.data)):\n",
    "            delta = [float('inf'),0]\n",
    "            for j in range(len(centers)):\n",
    "                distance = self.distance(centers[j],self.data[i])\n",
    "                if distance<delta[0]:\n",
    "                    delta[0] = distance \n",
    "                    delta[1] = j \n",
    "            self.assignment[i] = delta[1]\n",
    "            \n",
    "    def get_centers(self):\n",
    "        centers = []\n",
    "        for i in set(self.assignment):\n",
    "            cluster = []\n",
    "            for j in range(len(self.data)):\n",
    "                if self.assignment[j] ==i:\n",
    "                    cluster.append(self.data[j])\n",
    "            x, y = 0, 0\n",
    "            for delta in range(len(cluster)):\n",
    "                x+=cluster[delta][0]\n",
    "                y+=cluster[delta][1]\n",
    "            centers.append([x/len(cluster), y/len(cluster)])\n",
    "        \n",
    "        return np.array(centers)\n",
    "\n",
    "            \n",
    "    def is_diff_centers(self,centers, new_centers):\n",
    "        n = len(centers)\n",
    "        flag = False\n",
    "        for i in range(n):\n",
    "            if centers[i][0]!=new_centers[i][0]:\n",
    "                flag = True\n",
    "        if flag:\n",
    "            return True \n",
    "        return False\n",
    "\n",
    "    def lloyds(self):\n",
    "        centers = self.initialize()\n",
    "        self.assign(centers)\n",
    "        self.snap(centers)\n",
    "        new_centers = self.get_centers()\n",
    "        while self.is_diff_centers(centers,new_centers):\n",
    "            self.assign(new_centers)\n",
    "            centers = new_centers\n",
    "            self.snap(centers)\n",
    "            new_centers = self.get_centers()\n",
    "        return \n",
    "\n",
    "            \n",
    "\n",
    "kmeans = KMeans(X, 4)\n",
    "kmeans.lloyds()\n",
    "images = kmeans.snaps\n",
    "\n",
    "images[0].save(\n",
    "    'kmeans.gif',\n",
    "    optimize=False,\n",
    "    save_all=True,\n",
    "    append_images=images[1:],\n",
    "    loop=0,\n",
    "    duration=500\n",
    ")"
   ]
  },
  {
   "cell_type": "code",
   "execution_count": null,
   "metadata": {},
   "outputs": [],
   "source": []
  }
 ],
 "metadata": {
  "kernelspec": {
   "display_name": "Python 3",
   "language": "python",
   "name": "python3"
  },
  "language_info": {
   "codemirror_mode": {
    "name": "ipython",
    "version": 3
   },
   "file_extension": ".py",
   "mimetype": "text/x-python",
   "name": "python",
   "nbconvert_exporter": "python",
   "pygments_lexer": "ipython3",
   "version": "3.8.3"
  },
  "vscode": {
   "interpreter": {
    "hash": "76ca05dc3ea24b2e3b98cdb7774adfbb40773424bf5109b477fd793f623715af"
   }
  }
 },
 "nbformat": 4,
 "nbformat_minor": 4
}
