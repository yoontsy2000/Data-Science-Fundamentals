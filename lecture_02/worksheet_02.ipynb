{
 "cells": [
  {
   "cell_type": "markdown",
   "metadata": {},
   "source": [
    "# Worksheet 02\n",
    "\n",
    "Name: Taesung Yoon\n",
    "UID: U35641065\n",
    "\n",
    "### Topics\n",
    "\n",
    "- Effective Programming\n",
    "\n",
    "### Effective Programming\n",
    "\n",
    "a) What is a drawback of the top down approach?"
   ]
  },
  {
   "cell_type": "markdown",
   "metadata": {},
   "source": [
    "Top down approach requires more planning and can be time-consuming because you are trying to build something starting from a higher-level. \n",
    "You can run into problems when you try to make changes to your plan, since you've already wrote code that follows a plan built from the start."
   ]
  },
  {
   "cell_type": "markdown",
   "metadata": {},
   "source": [
    "b) What is a drawback of the bottom up approach?"
   ]
  },
  {
   "cell_type": "markdown",
   "metadata": {},
   "source": [
    "It's difficult to get a bigger picture of your code structure because you're starting from a lower-level since you are trying to build something that gradually becomes a larger product. The code base can look very messy in the end if you aren't careful. Things like writing the same functions in different parts of your code can occur, and maintaining the code base can be an issue in the future."
   ]
  },
  {
   "cell_type": "markdown",
   "metadata": {},
   "source": [
    "c) What are 3 things you can do to have a better debugging experience?"
   ]
  },
  {
   "cell_type": "markdown",
   "metadata": {},
   "source": [
    "1. Make sure to write clean code! Try to follow a naming and design convention.\n",
    "2. Meticulously test whatever you are implementing.\n",
    "3. Comment on your code. But don't write an essay! Make it concise, but descriptive. Don't comment out your code, just remove them."
   ]
  },
  {
   "cell_type": "code",
   "execution_count": null,
   "metadata": {},
   "outputs": [],
   "source": []
  },
  {
   "cell_type": "markdown",
   "metadata": {},
   "source": [
    "d) Follow along with the live coding. You can write your code here:"
   ]
  },
  {
   "cell_type": "code",
   "execution_count": 3,
   "metadata": {},
   "outputs": [
    {
     "name": "stdout",
     "output_type": "stream",
     "text": [
      "found a solution\n",
      "Q _ _ _ _ _ _ _ \n",
      "_ _ _ _ Q _ _ _ \n",
      "_ _ _ _ _ _ _ Q \n",
      "_ _ _ _ _ Q _ _ \n",
      "_ _ Q _ _ _ _ _ \n",
      "_ _ _ _ _ _ Q _ \n",
      "_ Q _ _ _ _ _ _ \n",
      "_ _ _ Q _ _ _ _ \n",
      "\n",
      "None\n"
     ]
    }
   ],
   "source": [
    "class Board:\n",
    "    def __init__(self):\n",
    "        self.board = [[\"_\" for _ in range(8)] for _ in range(8)]\n",
    "\n",
    "    def __repr__(self):\n",
    "        res = \"\"\n",
    "        for row in self.board:\n",
    "            for col in row:\n",
    "                res += col\n",
    "                res += \" \"\n",
    "            res += \"\\n\"\n",
    "\n",
    "        return res\n",
    "    \n",
    "    def is_legal_row(self, row, col):\n",
    "        for j in range(len(self.board)):\n",
    "            if self.board[row][j] == \"Q\": return False\n",
    "\n",
    "        return True\n",
    "    \n",
    "    def is_legal_col(self, row, col):\n",
    "        for i in range(len(self.board)):\n",
    "            if self.board[i][col] == \"Q\": return False\n",
    "        \n",
    "        return True\n",
    "\n",
    "    def is_on_board(self, row, col):\n",
    "        return row >= 0 and row < 8 and col >= 0 and col < 8\n",
    " \n",
    "    def is_legal_diag(self, row, col):\n",
    "        for i in range(len(self.board)):\n",
    "            if self.is_on_board(row - i, col - i) and self.board[row - i][col - i] == \"Q\":\n",
    "                return False\n",
    "            if self.is_on_board(row - i, col + i) and self.board[row - i][col + i] == \"Q\":\n",
    "                return False\n",
    "            if self.is_on_board(row + i, col - i) and self.board[row + i][col - i] == \"Q\":\n",
    "                return False\n",
    "            if self.is_on_board(row + i, col + i) and self.board[row + i][col + i] == \"Q\":\n",
    "                return False\n",
    "\n",
    "        return True\n",
    "\n",
    "    def is_legal(self, row, col):\n",
    "        if not self.is_legal_row(row, col):\n",
    "            return False\n",
    "        if not self.is_legal_col(row, col):\n",
    "            return False\n",
    "        if not self.is_legal_diag(row, col):\n",
    "            return False\n",
    "\n",
    "        return True\n",
    "    \n",
    "\n",
    "    def set_queen_at(self, row, col):\n",
    "        self.board[row][col] = \"Q\"\n",
    "\n",
    "    def unset_queen_on(self, row):\n",
    "        self.board[row] = [\"_\" for _ in range(8)]\n",
    "\n",
    "    def get_queen_on(self, row):\n",
    "        for col in range(len(self.board)):\n",
    "            if self.board[row][col] == \"Q\":\n",
    "                return col\n",
    "        \n",
    "        raise ValueError(\"programmer error\")\n",
    "\n",
    "    def search(self):\n",
    "        row = 0\n",
    "        col = 0\n",
    "\n",
    "        while row >= 0:\n",
    "            if row < 8:\n",
    "                if self.is_legal(row, col):\n",
    "                    self.set_queen_at(row, col)\n",
    "                    row += 1\n",
    "                    col = 0\n",
    "\n",
    "                else:\n",
    "                    col += 1\n",
    "                    while col >= 8:\n",
    "                        col = self.get_queen_on(row - 1)\n",
    "                        self.unset_queen_on(row - 1)\n",
    "                        col += 1\n",
    "                        row -= 1\n",
    "            else:\n",
    "                print(\"found a solution\")\n",
    "                print(self)\n",
    "                break\n",
    "\n",
    "\n",
    "\n",
    "\n",
    "my_board = Board()\n",
    "print(my_board.search())"
   ]
  },
  {
   "cell_type": "code",
   "execution_count": null,
   "metadata": {},
   "outputs": [],
   "source": []
  }
 ],
 "metadata": {
  "kernelspec": {
   "display_name": "Python 3",
   "language": "python",
   "name": "python3"
  },
  "language_info": {
   "codemirror_mode": {
    "name": "ipython",
    "version": 3
   },
   "file_extension": ".py",
   "mimetype": "text/x-python",
   "name": "python",
   "nbconvert_exporter": "python",
   "pygments_lexer": "ipython3",
   "version": "3.8.3"
  },
  "vscode": {
   "interpreter": {
    "hash": "76ca05dc3ea24b2e3b98cdb7774adfbb40773424bf5109b477fd793f623715af"
   }
  }
 },
 "nbformat": 4,
 "nbformat_minor": 4
}
