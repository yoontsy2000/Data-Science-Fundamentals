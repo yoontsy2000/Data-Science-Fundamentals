{
 "cells": [
  {
   "cell_type": "markdown",
   "metadata": {},
   "source": [
    "# Worksheet 08\n",
    "\n",
    "Name: Taesung Yoon\n",
    "UID: U35641065\n",
    "\n",
    "### Topics\n",
    "\n",
    "- Soft Clustering\n",
    "- Clustering Aggregation\n",
    "\n",
    "### Probability Review\n",
    "\n",
    "Read through [the following](https://medium.com/@gallettilance/overview-of-probability-3272b72c82c8)\n",
    "\n",
    "### Soft Clustering\n",
    "\n",
    "We generate 10 data points that come from a normal distribution with mean 5 and variance 1."
   ]
  },
  {
   "cell_type": "code",
   "execution_count": 1,
   "metadata": {
    "tags": []
   },
   "outputs": [
    {
     "name": "stdout",
     "output_type": "stream",
     "text": [
      "[5.748177478320417, 5.598448437396089, 4.196445776646494, 5.834531763062967, 6.370584754263946, 6.4948616105316335, 5.21787439288301, 5.432837136663584, 4.243841976819653, 4.571047919556471]\n"
     ]
    }
   ],
   "source": [
    "import random\n",
    "import numpy as np\n",
    "from sklearn.cluster import KMeans\n",
    "\n",
    "mean = 5\n",
    "stdev = 1\n",
    "\n",
    "c1 = np.random.normal(mean, stdev, 10).tolist()\n",
    "print(c1)"
   ]
  },
  {
   "cell_type": "markdown",
   "metadata": {},
   "source": [
    "a) Generate 10 more data points, this time coming from a normal distribution with mean 8 and variance 1."
   ]
  },
  {
   "cell_type": "code",
   "execution_count": 2,
   "metadata": {
    "tags": []
   },
   "outputs": [
    {
     "name": "stdout",
     "output_type": "stream",
     "text": [
      "[7.860868294004136, 7.276848452760411, 8.477105825207946, 6.734865727072291, 8.389978404542354, 7.446641680604106, 8.36901353757294, 7.524097420139047, 7.6419402021786995, 9.032803288052714]\n"
     ]
    }
   ],
   "source": [
    "mean = 8\n",
    "stdev = 1\n",
    "\n",
    "c2 = np.random.normal( mean, stdev, 10 ).tolist()\n",
    "print(c2)"
   ]
  },
  {
   "cell_type": "markdown",
   "metadata": {},
   "source": [
    "b) Flip a fair coin 10 times. If the coin lands on H, then pick the last data point of `c1` and remove it from `c1`, if T then pick the last data point from `c2` and remove it from `c2`. Add these 10 points to a list called `data`."
   ]
  },
  {
   "cell_type": "code",
   "execution_count": 3,
   "metadata": {
    "tags": []
   },
   "outputs": [
    {
     "name": "stdout",
     "output_type": "stream",
     "text": [
      "[9.032803288052714, 7.6419402021786995, 7.524097420139047, 8.36901353757294, 4.571047919556471, 7.446641680604106, 4.243841976819653, 8.389978404542354, 6.734865727072291, 8.477105825207946]\n"
     ]
    }
   ],
   "source": [
    "data = []\n",
    "for i in range(10):\n",
    "    # flip coin\n",
    "    coin_output = random.choice([0, 1])\n",
    "    if coin_output == 0:\n",
    "        p1 = c1.pop()\n",
    "        data.append(p1)\n",
    "    else:\n",
    "        p2 = c2.pop()\n",
    "        data.append(p2)\n",
    "print(data)"
   ]
  },
  {
   "cell_type": "markdown",
   "metadata": {},
   "source": [
    "c) This `data` is a Gaussian Mixture Distribution with 2 mixture components. Over the next few questions we will walk through the GMM algorithm to see if we can uncover the parameters we used to generate this data. First, please list all these parameters of the GMM that created `data` and the values we know they have."
   ]
  },
  {
   "cell_type": "markdown",
   "metadata": {},
   "source": []
  },
  {
   "cell_type": "markdown",
   "metadata": {},
   "source": [
    "d) Let's assume there are two mixture components (note: we could plot the data and make the observation that there are two clusters). The EM algorithm asks us to start with a random `mean_j`, `variance_j`, `P(C_j)` for each component j. One method we could use to find sensible values for these is to apply K means with k=2 here.\n",
    "\n",
    "1. the centroids would be the estimates of the `mean_j`\n",
    "2. the intra-cluster variance could be the estimate of `variance_j`\n",
    "3. the proportion of points in each cluster could be the estimate of `P(C_j)`\n",
    "\n",
    "Go through this process and list the parameter estimates it gives. Are they close or far from the true values?"
   ]
  },
  {
   "cell_type": "code",
   "execution_count": 6,
   "metadata": {
    "tags": []
   },
   "outputs": [
    {
     "name": "stdout",
     "output_type": "stream",
     "text": [
      "[9.032803288052714, 7.6419402021786995, 7.524097420139047, 8.36901353757294, 7.446641680604106, 8.389978404542354, 6.734865727072291, 8.477105825207946]\n",
      "[4.571047919556471, 4.243841976819653]\n",
      "P(C_1) = 0.8,  P(C_2) = 0.2\n",
      "mean_1 = 7.9520557606712625,  mean_2 = 4.407444948188062\n",
      "var_1 = 0.47820472362724603,  var_2 = 12.591031744213385\n"
     ]
    }
   ],
   "source": [
    "kmeans = KMeans(2, init='k-means++', n_init='auto').fit(X=np.array(data).reshape(-1, 1))\n",
    "\n",
    "c1 = [x[0] for x in filter(lambda x: x[1] == 0, zip(data, kmeans.labels_))]\n",
    "print(c1)\n",
    "c2 = [x[0] for x in filter(lambda x: x[1] != 0, zip(data, kmeans.labels_))]\n",
    "print(c2)\n",
    "\n",
    "prob_c = [ len(c1) / (len(c1) + len(c2)) , len(c2) / (len(c1) + len(c2)) ]\n",
    "mean = [ sum(c1) / len(c1) , sum(c2) / len(c2) ]\n",
    "var = [ sum(map(lambda x : (x - mean[0]) ** 2, c1)) / len(c1) , sum(map(lambda x : (x - mean[0]) ** 2, c2)) / len(c2) ]\n",
    "\n",
    "print(\"P(C_1) = \" + str(prob_c[0]) + \",  P(C_2) = \" + str(prob_c[1]))\n",
    "print(\"mean_1 = \" + str(mean[0]) + \",  mean_2 = \" + str(mean[1]))\n",
    "print(\"var_1 = \" + str(var[0]) + \",  var_2 = \" + str(var[1]))"
   ]
  },
  {
   "cell_type": "markdown",
   "metadata": {},
   "source": [
    "<b>Both means are close to their true values."
   ]
  },
  {
   "cell_type": "markdown",
   "metadata": {},
   "source": [
    "e) For each data point, compute `P(C_j | X_i)`. Comment on which cluster you think each point belongs to based on the estimated probabilities. How does that compare to the truth?"
   ]
  },
  {
   "cell_type": "code",
   "execution_count": 13,
   "metadata": {
    "tags": []
   },
   "outputs": [
    {
     "name": "stdout",
     "output_type": "stream",
     "text": [
      "point =  9.032803288052714\n",
      "probability of observing that point if it came from cluster 0 =  0.06489107930137876\n",
      "probability of observing that point if it came from cluster 1 =  0.029617271588583065\n",
      "point =  7.6419402021786995\n",
      "probability of observing that point if it came from cluster 0 =  0.6760433793067959\n",
      "probability of observing that point if it came from cluster 1 =  0.03065623352450102\n",
      "point =  7.524097420139047\n",
      "probability of observing that point if it came from cluster 0 =  0.5589644544194946\n",
      "probability of observing that point if it came from cluster 1 =  0.030728682798641254\n",
      "point =  8.36901353757294\n",
      "probability of observing that point if it came from cluster 0 =  0.5704400540595543\n",
      "probability of observing that point if it came from cluster 1 =  0.030154513906202638\n",
      "point =  4.571047919556471\n",
      "probability of observing that point if it came from cluster 0 =  1.1656499020725052e-11\n",
      "probability of observing that point if it came from cluster 1 =  0.03168196319647609\n",
      "point =  7.446641680604106\n",
      "probability of observing that point if it came from cluster 0 =  0.4772380270807698\n",
      "probability of observing that point if it came from cluster 1 =  0.030774927233309952\n",
      "point =  4.243841976819653\n",
      "probability of observing that point if it came from cluster 0 =  7.309941406657808e-14\n",
      "probability of observing that point if it came from cluster 1 =  0.03168196319647609\n",
      "point =  8.389978404542354\n",
      "probability of observing that point if it came from cluster 0 =  0.548518655535156\n",
      "probability of observing that point if it came from cluster 1 =  0.03013867874213552\n",
      "point =  6.734865727072291\n",
      "probability of observing that point if it came from cluster 0 =  0.032693434460438445\n",
      "probability of observing that point if it came from cluster 1 =  0.031147925686239277\n",
      "point =  8.477105825207946\n",
      "probability of observing that point if it came from cluster 0 =  0.4565846330925187\n",
      "probability of observing that point if it came from cluster 1 =  0.030072065542531015\n",
      "9.032803288052714\n",
      "Probability of coming from C_1 = 0.8975824439166802\n",
      "Probability of coming from C_2 = 0.10241755608331979\n",
      "\n",
      "7.6419402021786995\n",
      "Probability of coming from C_1 = 0.9887904417026051\n",
      "Probability of coming from C_2 = 0.011209558297394917\n",
      "\n",
      "7.524097420139047\n",
      "Probability of coming from C_1 = 0.9864427486918413\n",
      "Probability of coming from C_2 = 0.01355725130815859\n",
      "\n",
      "8.36901353757294\n",
      "Probability of coming from C_1 = 0.9869569091311949\n",
      "Probability of coming from C_2 = 0.013043090868805078\n",
      "\n",
      "4.571047919556471\n",
      "Probability of coming from C_1 = 1.4716889772622217e-09\n",
      "Probability of coming from C_2 = 0.999999998528311\n",
      "\n",
      "7.446641680604106\n",
      "Probability of coming from C_1 = 0.9841344031045675\n",
      "Probability of coming from C_2 = 0.01586559689543251\n",
      "\n",
      "4.243841976819653\n",
      "Probability of coming from C_1 = 9.229152071489572e-12\n",
      "Probability of coming from C_2 = 0.9999999999907709\n",
      "\n",
      "8.389978404542354\n",
      "Probability of coming from C_1 = 0.9864497354052446\n",
      "Probability of coming from C_2 = 0.01355026459475532\n",
      "\n",
      "6.734865727072291\n",
      "Probability of coming from C_1 = 0.8076358344672365\n",
      "Probability of coming from C_2 = 0.1923641655327634\n",
      "\n",
      "8.477105825207946\n",
      "Probability of coming from C_1 = 0.9838009621490285\n",
      "Probability of coming from C_2 = 0.016199037850971546\n",
      "\n"
     ]
    }
   ],
   "source": [
    "from scipy.stats import norm\n",
    "\n",
    "prob_c0_x = [] # P(C_0 | X_i)\n",
    "prob_c1_x = [] # P(C_1 | X_i)\n",
    "prob_x = [] # P(X_i)\n",
    "\n",
    "k = 2\n",
    "\n",
    "for p in data:\n",
    "    print(\"point = \", p)\n",
    "    pdf_i = []\n",
    "\n",
    "    for j in range(k):\n",
    "        # P(X_i | C_j)\n",
    "        pdf_i.append(norm.pdf(p, mean[j], var[j]))\n",
    "        print(\"probability of observing that point if it came from cluster \" + str(j) + \" = \", pdf_i[j])\n",
    "        # P(C_j) already computed\n",
    "        prob_c[j]\n",
    "\n",
    "    # P(X_i) = P(C_0)P(X_i | C_0) + P(C_1)P(X_i | C_1)\n",
    "    prob_x = prob_c[0] * pdf_i[0] + prob_c[1] * pdf_i[1]\n",
    "\n",
    "    # P(C_j | X_i) = P(X_i | C_j)P(C_j) / P(X_i)\n",
    "    prob_c0_x.append( pdf_i[0] * prob_c[0] / prob_x )\n",
    "    prob_c1_x.append( pdf_i[1] * prob_c[1] / prob_x )\n",
    "\n",
    "probs = zip(data, prob_c0_x, prob_c1_x)\n",
    "for p in probs:\n",
    "    print(p[0])\n",
    "    print(\"Probability of coming from C_1 = \" + str(p[1]))\n",
    "    print(\"Probability of coming from C_2 = \" + str(p[2]))\n",
    "    print()\n"
   ]
  },
  {
   "cell_type": "markdown",
   "metadata": {},
   "source": [
    "f) Having computed `P(C_j | X_i)`, update the estimates of `mean_j`, `var_j`, and `P(C_j)`. How different are these values from the original ones you got from K means? briefly comment."
   ]
  },
  {
   "cell_type": "code",
   "execution_count": 14,
   "metadata": {
    "tags": []
   },
   "outputs": [
    {
     "name": "stdout",
     "output_type": "stream",
     "text": [
      "P(C_1) = 0.7621793480049317,  P(C_2) = 0.23782065199506836\n",
      "mean_1 = 7.9679149441354005,  mean_2 = 4.920318615218562\n",
      "var_1 = 0.4463716341244154,  var_2 = 1.5745112179901273\n"
     ]
    }
   ],
   "source": [
    "prob_c = [sum(prob_c0_x) / len(prob_c0_x), sum(prob_c1_x) / len(prob_c1_x) ]\n",
    "mean = [sum([x[0] * x[1] for x in zip(prob_c0_x, data)]) / sum(prob_c0_x), sum([x[0] * x[1] for x in zip(prob_c1_x, data)]) / sum(prob_c1_x) ]\n",
    "var = [ sum([x[0] * (x[1] - mean[0]) ** 2 for x in zip(prob_c0_x, data)]) / sum(prob_c0_x) , sum([x[0] * (x[1] - mean[1]) ** 2 for x in zip(prob_c1_x, data)]) / sum(prob_c1_x) ]\n",
    "\n",
    "print(\"P(C_1) = \" + str(prob_c[0]) + \",  P(C_2) = \" + str(prob_c[1]))\n",
    "print(\"mean_1 = \" + str(mean[0]) + \",  mean_2 = \" + str(mean[1]))\n",
    "print(\"var_1 = \" + str(var[0]) + \",  var_2 = \" + str(var[1]))"
   ]
  },
  {
   "cell_type": "markdown",
   "metadata": {},
   "source": []
  },
  {
   "cell_type": "markdown",
   "metadata": {},
   "source": [
    "g) Update `P(C_j | X_i)`. Comment on any differences or lack thereof you observe."
   ]
  },
  {
   "cell_type": "code",
   "execution_count": null,
   "metadata": {},
   "outputs": [],
   "source": [
    "prob_c0_x = [] # P(C_0 | X_i)\n",
    "prob_c1_x = [] # P(C_1 | X_i)\n",
    "prob_x = [] # P(X_i)\n",
    "\n",
    "k = 2\n",
    "\n",
    "for p in data:\n",
    "    print(\"point = \", p)\n",
    "    pdf_i = []\n",
    "\n",
    "    for j in range(k):\n",
    "        # P(X_i | C_j)\n",
    "        pdf_i.append(norm.pdf(p, mean[j], var[j]))\n",
    "        print(\"probability of observing that point if it came from cluster \" + str(j) + \" = \", pdf_i[j])\n",
    "        # P(C_j) already computed\n",
    "        prob_c[j]\n",
    "\n",
    "    # P(X_i) = P(C_0)P(X_i | C_0) + P(C_1)P(X_i | C_1)\n",
    "    prob_x = prob_c[0] * pdf_i[0] + prob_c[1] * pdf_i[1]\n",
    "\n",
    "    # P(C_j | X_i) = P(X_i | C_j)P(C_j) / P(X_i)\n",
    "    prob_c0_x.append(pdf_i[0] * prob_c[0] / prob_x )\n",
    "    prob_c1_x.append(pdf_i[1] * prob_c[1] / prob_x )\n",
    "\n",
    "probs = zip(data, prob_c0_x, prob_c1_x)\n",
    "for p in probs:\n",
    "    print(p[0])\n",
    "    print(\"Probability of coming from C_1 = \" + str(p[1]))\n",
    "    print(\"Probability of coming from C_2 = \" + str(p[2]))\n",
    "    print()"
   ]
  },
  {
   "cell_type": "markdown",
   "metadata": {},
   "source": []
  },
  {
   "cell_type": "markdown",
   "metadata": {},
   "source": [
    "h) Use `P(C_j | X_i)` to create a hard assignment - label each point as belonging to a specific cluster (0 or 1)"
   ]
  },
  {
   "cell_type": "code",
   "execution_count": null,
   "metadata": {},
   "outputs": [],
   "source": []
  },
  {
   "cell_type": "markdown",
   "metadata": {},
   "source": [
    "### Clustering Aggregation\n",
    "\n",
    "| Point | C | P |\n",
    "|-------|---|---|\n",
    "| A     | 0 | a |\n",
    "| B     | 0 | b |\n",
    "| C     | 2 | b |\n",
    "| D     | 1 | c |\n",
    "| E     | 1 | d |\n",
    "\n",
    "a) Fill in the following table where for each pair of points determine whether C and P agree or disagree on how to cluster that pair."
   ]
  },
  {
   "cell_type": "markdown",
   "metadata": {},
   "source": [
    "| Pair | Disagreement |\n",
    "|------|--------------|\n",
    "| A  B |      ?       |\n",
    "| A  C |      ?       |\n",
    "| A  D |      ?       |\n",
    "| A  E |      ?       |\n",
    "| B  C |      ?       |\n",
    "| B  D |      ?       |\n",
    "| B  E |      ?       |\n",
    "| C  D |      ?       |\n",
    "| C  E |      ?       |\n",
    "| D  E |      ?       |\n"
   ]
  },
  {
   "cell_type": "markdown",
   "metadata": {},
   "source": [
    "As datasets become very large, this process can become computationally challenging.\n",
    "\n",
    "b) Given N points, what is the formula for the number of unique pairs of points one can create?"
   ]
  },
  {
   "cell_type": "markdown",
   "metadata": {},
   "source": []
  },
  {
   "cell_type": "markdown",
   "metadata": {},
   "source": [
    "Assume that clustering C clusters all points in the same cluster and clustering P clusters points as such:\n",
    "\n",
    "| Point | P |\n",
    "|-------|---|\n",
    "| A     | 0 |\n",
    "| B     | 0 |\n",
    "| C     | 0 |\n",
    "| D     | 1 |\n",
    "| E     | 1 |\n",
    "| F     | 2 |\n",
    "| G     | 2 |\n",
    "| H     | 2 |\n",
    "| I     | 2 |\n",
    "\n",
    "c) What is the maximum number of disagreements there could be for a dataset of this size? (use the formula from b)?"
   ]
  },
  {
   "cell_type": "markdown",
   "metadata": {},
   "source": []
  },
  {
   "cell_type": "markdown",
   "metadata": {},
   "source": [
    "d) If we look at cluster 0. There are (3 x 2) / 2 = 3 pairs that agree with C (since all points in C are in the same cluster). For each cluster, determine how many agreements there are. How many total agreements are there? How many disagreements does that mean there are between C and P?"
   ]
  },
  {
   "cell_type": "markdown",
   "metadata": {},
   "source": []
  },
  {
   "cell_type": "markdown",
   "metadata": {},
   "source": [
    "e) Assuming that filtering the dataset by cluster number is a computationally easy operation, describe an algorithm inspired by the above process that can efficiently compute disagreement distances on large datasets."
   ]
  },
  {
   "cell_type": "markdown",
   "metadata": {},
   "source": []
  }
 ],
 "metadata": {
  "interpreter": {
   "hash": "76ca05dc3ea24b2e3b98cdb7774adfbb40773424bf5109b477fd793f623715af"
  },
  "kernelspec": {
   "display_name": "Python 3 (ipykernel)",
   "language": "python",
   "name": "python3"
  },
  "language_info": {
   "codemirror_mode": {
    "name": "ipython",
    "version": 3
   },
   "file_extension": ".py",
   "mimetype": "text/x-python",
   "name": "python",
   "nbconvert_exporter": "python",
   "pygments_lexer": "ipython3",
   "version": "3.8.18"
  }
 },
 "nbformat": 4,
 "nbformat_minor": 4
}
